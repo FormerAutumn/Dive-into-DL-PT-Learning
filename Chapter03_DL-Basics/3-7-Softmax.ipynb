{
 "cells": [
  {
   "cell_type": "code",
   "execution_count": 1,
   "metadata": {},
   "outputs": [],
   "source": [
    "import torch\n",
    "import torchvision\n",
    "import torch.nn as nn\n",
    "import torch.utils.data as Data\n",
    "import numpy as np\n",
    "import sys\n",
    "sys.path.append(\"..\")\n",
    "import d2lzh_pytorch as d2l"
   ]
  },
  {
   "cell_type": "code",
   "execution_count": 7,
   "metadata": {},
   "outputs": [],
   "source": [
    "fmnist_train = torchvision.datasets.FashionMNIST(\n",
    "    root='../Datasets/FashionMNIST/',\n",
    "    train=True,\n",
    "    download=False,\n",
    "    transform=torchvision.transforms.ToTensor()\n",
    ")\n",
    "fmnist_test = torchvision.datasets.FashionMNIST(\n",
    "    root='../Datasets/FashionMNIST/',\n",
    "    train=False,\n",
    "    download=False,\n",
    "    transform=torchvision.transforms.ToTensor()\n",
    ")"
   ]
  },
  {
   "cell_type": "code",
   "execution_count": 9,
   "metadata": {},
   "outputs": [],
   "source": [
    "batch_size = 256\n",
    "train_iter = Data.DataLoader(dataset=fmnist_train, batch_size=batch_size, shuffle=True)"
   ]
  },
  {
   "cell_type": "code",
   "execution_count": 15,
   "metadata": {},
   "outputs": [
    {
     "name": "stdout",
     "output_type": "stream",
     "text": [
      "cuda!\n",
      "DataParallel(\n",
      "  (module): LinearNet(\n",
      "    (linear): Linear(in_features=784, out_features=10, bias=True)\n",
      "  )\n",
      ")\n"
     ]
    }
   ],
   "source": [
    "num_inputs = 784\n",
    "num_outputs = 10\n",
    "\n",
    "class LinearNet(nn.Module):\n",
    "    def __init__(self, num_inputs, num_outputs):\n",
    "        super(LinearNet, self).__init__()\n",
    "        self.linear = nn.Linear(num_inputs, num_outputs)\n",
    "    \n",
    "    def forward(self, x):\n",
    "        y = self.linear(x)\n",
    "        return y\n",
    "\n",
    "net = LinearNet(num_inputs, num_outputs)\n",
    "if torch.cuda.is_available():\n",
    "    print('cuda!')\n",
    "net = nn.DataParallel(net, device_ids=[0])\n",
    "print(net)"
   ]
  },
  {
   "cell_type": "code",
   "execution_count": 17,
   "metadata": {},
   "outputs": [
    {
     "name": "stdout",
     "output_type": "stream",
     "text": [
      "epoch: 1, loss: 1.0118\n",
      "epoch: 2, loss: 0.8558\n",
      "epoch: 3, loss: 0.8004\n",
      "epoch: 4, loss: 0.8270\n",
      "epoch: 5, loss: 0.8045\n"
     ]
    }
   ],
   "source": [
    "optimizer = torch.optim.SGD(net.parameters(), lr=0.01)\n",
    "loss_func = nn.CrossEntropyLoss().cuda()\n",
    "\n",
    "num_epochs = 5\n",
    "for epoch in range(1, num_epochs+1):\n",
    "    for X, y in train_iter:\n",
    "        b_x = X.view((X.shape[0],-1)).cuda(); b_y = y.cuda()\n",
    "        output = net(b_x)\n",
    "        loss = loss_func(output, b_y)\n",
    "        optimizer.zero_grad()\n",
    "        loss.backward()\n",
    "        optimizer.step()\n",
    "    \n",
    "    print('epoch: %d, loss: %.4f' % (epoch, loss.data.cpu().numpy()))"
   ]
  },
  {
   "cell_type": "code",
   "execution_count": null,
   "metadata": {},
   "outputs": [],
   "source": []
  }
 ],
 "metadata": {
  "kernelspec": {
   "display_name": "Python 3",
   "language": "python",
   "name": "python3"
  },
  "language_info": {
   "codemirror_mode": {
    "name": "ipython",
    "version": 3
   },
   "file_extension": ".py",
   "mimetype": "text/x-python",
   "name": "python",
   "nbconvert_exporter": "python",
   "pygments_lexer": "ipython3",
   "version": "3.7.0"
  }
 },
 "nbformat": 4,
 "nbformat_minor": 2
}
