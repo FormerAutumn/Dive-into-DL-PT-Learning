{
 "cells": [
  {
   "cell_type": "code",
   "execution_count": 2,
   "metadata": {},
   "outputs": [],
   "source": [
    "import time\n",
    "import torch\n",
    "import torch.nn as nn\n",
    "import torchvision\n",
    "import torch.utils.data as Data\n",
    "import torchvision.transforms as transforms\n",
    "\n",
    "device = torch.device('cuda' if torch.cuda.is_available() else 'cpu')"
   ]
  },
  {
   "cell_type": "code",
   "execution_count": 3,
   "metadata": {},
   "outputs": [],
   "source": [
    "class LeNet(nn.Module):\n",
    "    def __init__(self):\n",
    "        super(LeNet, self).__init__()\n",
    "        self.conv = nn.Sequential(\n",
    "            nn.Conv2d(1,6,5), # in_channels, out_channels, kerner_size\n",
    "            nn.Sigmoid(),\n",
    "            nn.MaxPool2d(2,2), # kernel_size, stride\n",
    "            nn.Conv2d(6,16,5),\n",
    "            nn.Sigmoid(),\n",
    "            nn.MaxPool2d(2,2)\n",
    "        )\n",
    "        \n",
    "        self.fc = nn.Sequential(\n",
    "            nn.Linear(16*4*4, 120),\n",
    "            nn.Sigmoid(),\n",
    "            nn.Linear(120,84),\n",
    "            nn.Sigmoid(),\n",
    "            nn.Linear(84,10),\n",
    "        )\n",
    "    \n",
    "    def forward(self, img):\n",
    "        feature = self.conv(img)\n",
    "        output = self.fc(feature.view(img.shape[0], -1))\n",
    "        return output"
   ]
  },
  {
   "cell_type": "code",
   "execution_count": 4,
   "metadata": {},
   "outputs": [
    {
     "name": "stdout",
     "output_type": "stream",
     "text": [
      "LeNet(\n",
      "  (conv): Sequential(\n",
      "    (0): Conv2d(1, 6, kernel_size=(5, 5), stride=(1, 1))\n",
      "    (1): Sigmoid()\n",
      "    (2): MaxPool2d(kernel_size=2, stride=2, padding=0, dilation=1, ceil_mode=False)\n",
      "    (3): Conv2d(6, 16, kernel_size=(5, 5), stride=(1, 1))\n",
      "    (4): Sigmoid()\n",
      "    (5): MaxPool2d(kernel_size=2, stride=2, padding=0, dilation=1, ceil_mode=False)\n",
      "  )\n",
      "  (fc): Sequential(\n",
      "    (0): Linear(in_features=256, out_features=120, bias=True)\n",
      "    (1): Sigmoid()\n",
      "    (2): Linear(in_features=120, out_features=84, bias=True)\n",
      "    (3): Sigmoid()\n",
      "    (4): Linear(in_features=84, out_features=10, bias=True)\n",
      "  )\n",
      ")\n"
     ]
    }
   ],
   "source": [
    "net = LeNet()\n",
    "print(net)"
   ]
  },
  {
   "cell_type": "code",
   "execution_count": 30,
   "metadata": {},
   "outputs": [],
   "source": [
    "batch_size = 256\n",
    "transform = transforms.ToTensor()\n",
    "root=r'D:\\notebook_canticle\\Datasets\\fmnist/'\n",
    "fmnist_train = torchvision.datasets.FashionMNIST(root=root, train=True, transform=transform)\n",
    "fmnist_test  = torchvision.datasets.FashionMNIST(root=root, train=False, transform=transform)\n",
    "train_iter = Data.DataLoader(fmnist_train, batch_size=batch_size, shuffle=True)\n",
    "test_iter  = Data.DataLoader(fmnist_test,  batch_size=batch_size, shuffle=False)"
   ]
  },
  {
   "cell_type": "code",
   "execution_count": 34,
   "metadata": {},
   "outputs": [],
   "source": [
    "def evaluate_accuracy( data_iter, net,\n",
    "        device = torch.device('cuda' if torch.cuda.is_available() else 'cpu') ):\n",
    "    acc_sum, n = 0.0, 0\n",
    "    with torch.no_grad():\n",
    "        for X, y in data_iter:\n",
    "            \n",
    "            net.eval()\n",
    "            acc_sum += (net(X.to(device)).argmax(dim=1) == y.to(device)).float().sum().cpu().item()\n",
    "            net.train()\n",
    "            \n",
    "            n += y.shape[0]\n",
    "    return acc_sum/n"
   ]
  },
  {
   "cell_type": "code",
   "execution_count": 36,
   "metadata": {},
   "outputs": [
    {
     "name": "stdout",
     "output_type": "stream",
     "text": [
      "Training on cuda\n",
      "epoch 1, loss 0.7640, train_acc 0.7134, test_acc 0.7254, time 6.3 secs\n",
      "epoch 2, loss 0.6860, train_acc 0.7357, test_acc 0.7394, time 6.2 secs\n",
      "epoch 3, loss 0.6359, train_acc 0.7514, test_acc 0.7533, time 6.3 secs\n",
      "epoch 4, loss 0.5997, train_acc 0.7646, test_acc 0.7640, time 6.1 secs\n",
      "epoch 5, loss 0.5717, train_acc 0.7752, test_acc 0.7770, time 6.1 secs\n"
     ]
    }
   ],
   "source": [
    "net = net.to(device)\n",
    "print(\"Training on\", device)\n",
    "\n",
    "num_epochs, lr = 5, 0.001\n",
    "optimizer = torch.optim.Adam(net.parameters(), lr=lr)\n",
    "loss_func = nn.CrossEntropyLoss()\n",
    "\n",
    "for epoch in range(num_epochs):\n",
    "    batch_count, train_l_sum, train_acc_sum, n, start = 0, 0.0, 0.0, 0, time.time()\n",
    "    for X, y in train_iter:\n",
    "        X = X.to(device)\n",
    "        y = y.to(device)\n",
    "        y_hat = net(X)\n",
    "        loss = loss_func(y_hat, y)\n",
    "        optimizer.zero_grad()\n",
    "        loss.backward()\n",
    "        optimizer.step()\n",
    "        \n",
    "        train_l_sum += loss.cpu().item()\n",
    "        train_acc_sum += (y_hat.argmax(dim=1) == y).sum().cpu().item()\n",
    "        n += y.shape[0]\n",
    "        batch_count += 1\n",
    "    \n",
    "    test_acc = evaluate_accuracy(test_iter, net)\n",
    "    print(\"epoch %d, loss %.4f, train_acc %.4f, test_acc %.4f, time %.1f secs\"\n",
    "          % (epoch+1, train_l_sum/batch_count, train_acc_sum/n, test_acc, time.time()-start))\n",
    "    "
   ]
  },
  {
   "cell_type": "code",
   "execution_count": null,
   "metadata": {},
   "outputs": [],
   "source": []
  }
 ],
 "metadata": {
  "kernelspec": {
   "display_name": "Python 3",
   "language": "python",
   "name": "python3"
  },
  "language_info": {
   "codemirror_mode": {
    "name": "ipython",
    "version": 3
   },
   "file_extension": ".py",
   "mimetype": "text/x-python",
   "name": "python",
   "nbconvert_exporter": "python",
   "pygments_lexer": "ipython3",
   "version": "3.7.3"
  }
 },
 "nbformat": 4,
 "nbformat_minor": 2
}
